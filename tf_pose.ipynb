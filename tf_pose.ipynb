{
  "nbformat": 4,
  "nbformat_minor": 0,
  "metadata": {
    "colab": {
      "name": "tf-pose.ipynb",
      "provenance": [],
      "collapsed_sections": [],
      "authorship_tag": "ABX9TyOjo+F7brDlmEr4uitbdBsU",
      "include_colab_link": true
    },
    "kernelspec": {
      "name": "python3",
      "display_name": "Python 3"
    }
  },
  "cells": [
    {
      "cell_type": "markdown",
      "metadata": {
        "id": "view-in-github",
        "colab_type": "text"
      },
      "source": [
        "<a href=\"https://colab.research.google.com/github/kaovilai/ACM-AITP-CoursePro/blob/master/tf_pose.ipynb\" target=\"_parent\"><img src=\"https://colab.research.google.com/assets/colab-badge.svg\" alt=\"Open In Colab\"/></a>"
      ]
    },
    {
      "cell_type": "markdown",
      "metadata": {
        "id": "a3wnL3bXaz2C"
      },
      "source": [
        "# REBA tf-pose-estimation prototype"
      ]
    },
    {
      "cell_type": "code",
      "metadata": {
        "colab": {
          "base_uri": "https://localhost:8080/"
        },
        "id": "e8vRchWAaJdM",
        "outputId": "25f7e515-6f91-4a81-dfe8-65013a4a4d10"
      },
      "source": [
        "#@title Downloading tf-pose-estimation, installing requirements\n",
        "\n",
        "#src: https://github.com/ildoonet/tf-pose-estimation\n",
        "%cd /content/\n",
        "!apt-get install swig libllvm-7-ocaml-dev libllvm7 llvm-7 llvm-7-dev llvm-7-doc llvm-7-examples llvm-7-runtime\n",
        "# !export LLVM_CONFIG=/usr/bin/llvm-config-7\n",
        "!rm -rf /content/tf-pose-estimation/\n",
        "!git clone https://github.com/ildoonet/tf-pose-estimation --\n",
        "%cd /content/tf-pose-estimation/tf_pose/pafprocess/\n",
        "!swig -python -c++ pafprocess.i && python setup.py build_ext --inplace\n",
        "!pip install -r /content/tf-pose-estimation/requirements.txt\n",
        "!pip install tensorflow==1.15.0 opencv-python git+https://github.com/adrianc-a/tf-slim.git@remove_contrib\n",
        "%cd /content/tf-pose-estimation/"
      ],
      "execution_count": 8,
      "outputs": [
        {
          "output_type": "stream",
          "text": [
            "/content\n",
            "Reading package lists... Done\n",
            "Building dependency tree       \n",
            "Reading state information... Done\n",
            "swig is already the newest version (3.0.12-1).\n",
            "libllvm7 is already the newest version (1:7-3~ubuntu0.18.04.1).\n",
            "libllvm-7-ocaml-dev is already the newest version (1:7-3~ubuntu0.18.04.1).\n",
            "llvm-7 is already the newest version (1:7-3~ubuntu0.18.04.1).\n",
            "llvm-7-dev is already the newest version (1:7-3~ubuntu0.18.04.1).\n",
            "llvm-7-doc is already the newest version (1:7-3~ubuntu0.18.04.1).\n",
            "llvm-7-examples is already the newest version (1:7-3~ubuntu0.18.04.1).\n",
            "llvm-7-runtime is already the newest version (1:7-3~ubuntu0.18.04.1).\n",
            "0 upgraded, 0 newly installed, 0 to remove and 15 not upgraded.\n",
            "Cloning into 'tf-pose-estimation'...\n",
            "remote: Enumerating objects: 1362, done.\u001b[K\n",
            "remote: Total 1362 (delta 0), reused 0 (delta 0), pack-reused 1362\u001b[K\n",
            "Receiving objects: 100% (1362/1362), 94.14 MiB | 31.22 MiB/s, done.\n",
            "Resolving deltas: 100% (728/728), done.\n",
            "/content/tf-pose-estimation/tf_pose/pafprocess\n",
            "running build_ext\n",
            "building '_pafprocess' extension\n",
            "swigging pafprocess.i to pafprocess_wrap.cpp\n",
            "swig -python -c++ -o pafprocess_wrap.cpp pafprocess.i\n",
            "creating build\n",
            "creating build/temp.linux-x86_64-3.6\n",
            "x86_64-linux-gnu-gcc -pthread -DNDEBUG -g -fwrapv -O2 -Wall -g -fstack-protector-strong -Wformat -Werror=format-security -Wdate-time -D_FORTIFY_SOURCE=2 -fPIC -I/usr/local/lib/python3.6/dist-packages/numpy/core/include -I. -I/usr/include/python3.6m -c pafprocess.cpp -o build/temp.linux-x86_64-3.6/pafprocess.o\n",
            "x86_64-linux-gnu-gcc -pthread -DNDEBUG -g -fwrapv -O2 -Wall -g -fstack-protector-strong -Wformat -Werror=format-security -Wdate-time -D_FORTIFY_SOURCE=2 -fPIC -I/usr/local/lib/python3.6/dist-packages/numpy/core/include -I. -I/usr/include/python3.6m -c pafprocess_wrap.cpp -o build/temp.linux-x86_64-3.6/pafprocess_wrap.o\n",
            "x86_64-linux-gnu-g++ -pthread -shared -Wl,-O1 -Wl,-Bsymbolic-functions -Wl,-Bsymbolic-functions -Wl,-z,relro -Wl,-Bsymbolic-functions -Wl,-z,relro -g -fstack-protector-strong -Wformat -Werror=format-security -Wdate-time -D_FORTIFY_SOURCE=2 build/temp.linux-x86_64-3.6/pafprocess.o build/temp.linux-x86_64-3.6/pafprocess_wrap.o -o /content/tf-pose-estimation/tf_pose/pafprocess/_pafprocess.cpython-36m-x86_64-linux-gnu.so\n",
            "Collecting git+https://github.com/ppwwyyxx/tensorpack.git (from -r /content/tf-pose-estimation/requirements.txt (line 13))\n",
            "  Cloning https://github.com/ppwwyyxx/tensorpack.git to /tmp/pip-req-build-h6v4lx5f\n",
            "  Running command git clone -q https://github.com/ppwwyyxx/tensorpack.git /tmp/pip-req-build-h6v4lx5f\n",
            "Requirement already satisfied (use --upgrade to upgrade): tensorpack==0.11 from git+https://github.com/ppwwyyxx/tensorpack.git in /usr/local/lib/python3.6/dist-packages (from -r /content/tf-pose-estimation/requirements.txt (line 13))\n",
            "Requirement already satisfied: argparse in /usr/local/lib/python3.6/dist-packages (from -r /content/tf-pose-estimation/requirements.txt (line 1)) (1.4.0)\n",
            "Requirement already satisfied: dill in /usr/local/lib/python3.6/dist-packages (from -r /content/tf-pose-estimation/requirements.txt (line 2)) (0.3.3)\n",
            "Requirement already satisfied: fire in /usr/local/lib/python3.6/dist-packages (from -r /content/tf-pose-estimation/requirements.txt (line 3)) (0.4.0)\n",
            "Requirement already satisfied: matplotlib in /usr/local/lib/python3.6/dist-packages (from -r /content/tf-pose-estimation/requirements.txt (line 4)) (3.2.2)\n",
            "Requirement already satisfied: numba in /usr/local/lib/python3.6/dist-packages (from -r /content/tf-pose-estimation/requirements.txt (line 5)) (0.51.2)\n",
            "Requirement already satisfied: psutil in /usr/local/lib/python3.6/dist-packages (from -r /content/tf-pose-estimation/requirements.txt (line 6)) (5.4.8)\n",
            "Requirement already satisfied: pycocotools in /usr/local/lib/python3.6/dist-packages (from -r /content/tf-pose-estimation/requirements.txt (line 7)) (2.0.2)\n",
            "Requirement already satisfied: requests in /usr/local/lib/python3.6/dist-packages (from -r /content/tf-pose-estimation/requirements.txt (line 8)) (2.23.0)\n",
            "Requirement already satisfied: scikit-image in /usr/local/lib/python3.6/dist-packages (from -r /content/tf-pose-estimation/requirements.txt (line 9)) (0.16.2)\n",
            "Requirement already satisfied: scipy in /usr/local/lib/python3.6/dist-packages (from -r /content/tf-pose-estimation/requirements.txt (line 10)) (1.4.1)\n",
            "Requirement already satisfied: slidingwindow in /usr/local/lib/python3.6/dist-packages (from -r /content/tf-pose-estimation/requirements.txt (line 11)) (0.0.14)\n",
            "Requirement already satisfied: tqdm in /usr/local/lib/python3.6/dist-packages (from -r /content/tf-pose-estimation/requirements.txt (line 12)) (4.41.1)\n",
            "Requirement already satisfied: numpy>=1.14 in /usr/local/lib/python3.6/dist-packages (from tensorpack==0.11->-r /content/tf-pose-estimation/requirements.txt (line 13)) (1.19.5)\n",
            "Requirement already satisfied: six in /usr/local/lib/python3.6/dist-packages (from tensorpack==0.11->-r /content/tf-pose-estimation/requirements.txt (line 13)) (1.15.0)\n",
            "Requirement already satisfied: termcolor>=1.1 in /usr/local/lib/python3.6/dist-packages (from tensorpack==0.11->-r /content/tf-pose-estimation/requirements.txt (line 13)) (1.1.0)\n",
            "Requirement already satisfied: tabulate>=0.7.7 in /usr/local/lib/python3.6/dist-packages (from tensorpack==0.11->-r /content/tf-pose-estimation/requirements.txt (line 13)) (0.8.7)\n",
            "Requirement already satisfied: msgpack>=0.5.2 in /usr/local/lib/python3.6/dist-packages (from tensorpack==0.11->-r /content/tf-pose-estimation/requirements.txt (line 13)) (1.0.2)\n",
            "Requirement already satisfied: msgpack-numpy>=0.4.4.2 in /usr/local/lib/python3.6/dist-packages (from tensorpack==0.11->-r /content/tf-pose-estimation/requirements.txt (line 13)) (0.4.7.1)\n",
            "Requirement already satisfied: pyzmq>=16 in /usr/local/lib/python3.6/dist-packages (from tensorpack==0.11->-r /content/tf-pose-estimation/requirements.txt (line 13)) (22.0.2)\n",
            "Requirement already satisfied: pyparsing!=2.0.4,!=2.1.2,!=2.1.6,>=2.0.1 in /usr/local/lib/python3.6/dist-packages (from matplotlib->-r /content/tf-pose-estimation/requirements.txt (line 4)) (2.4.7)\n",
            "Requirement already satisfied: cycler>=0.10 in /usr/local/lib/python3.6/dist-packages (from matplotlib->-r /content/tf-pose-estimation/requirements.txt (line 4)) (0.10.0)\n",
            "Requirement already satisfied: kiwisolver>=1.0.1 in /usr/local/lib/python3.6/dist-packages (from matplotlib->-r /content/tf-pose-estimation/requirements.txt (line 4)) (1.3.1)\n",
            "Requirement already satisfied: python-dateutil>=2.1 in /usr/local/lib/python3.6/dist-packages (from matplotlib->-r /content/tf-pose-estimation/requirements.txt (line 4)) (2.8.1)\n",
            "Requirement already satisfied: llvmlite<0.35,>=0.34.0.dev0 in /usr/local/lib/python3.6/dist-packages (from numba->-r /content/tf-pose-estimation/requirements.txt (line 5)) (0.34.0)\n",
            "Requirement already satisfied: setuptools in /usr/local/lib/python3.6/dist-packages (from numba->-r /content/tf-pose-estimation/requirements.txt (line 5)) (53.0.0)\n",
            "Requirement already satisfied: cython>=0.27.3 in /usr/local/lib/python3.6/dist-packages (from pycocotools->-r /content/tf-pose-estimation/requirements.txt (line 7)) (0.29.21)\n",
            "Requirement already satisfied: idna<3,>=2.5 in /usr/local/lib/python3.6/dist-packages (from requests->-r /content/tf-pose-estimation/requirements.txt (line 8)) (2.10)\n",
            "Requirement already satisfied: urllib3!=1.25.0,!=1.25.1,<1.26,>=1.21.1 in /usr/local/lib/python3.6/dist-packages (from requests->-r /content/tf-pose-estimation/requirements.txt (line 8)) (1.24.3)\n",
            "Requirement already satisfied: chardet<4,>=3.0.2 in /usr/local/lib/python3.6/dist-packages (from requests->-r /content/tf-pose-estimation/requirements.txt (line 8)) (3.0.4)\n",
            "Requirement already satisfied: certifi>=2017.4.17 in /usr/local/lib/python3.6/dist-packages (from requests->-r /content/tf-pose-estimation/requirements.txt (line 8)) (2020.12.5)\n",
            "Requirement already satisfied: networkx>=2.0 in /usr/local/lib/python3.6/dist-packages (from scikit-image->-r /content/tf-pose-estimation/requirements.txt (line 9)) (2.5)\n",
            "Requirement already satisfied: PyWavelets>=0.4.0 in /usr/local/lib/python3.6/dist-packages (from scikit-image->-r /content/tf-pose-estimation/requirements.txt (line 9)) (1.1.1)\n",
            "Requirement already satisfied: pillow>=4.3.0 in /usr/local/lib/python3.6/dist-packages (from scikit-image->-r /content/tf-pose-estimation/requirements.txt (line 9)) (7.0.0)\n",
            "Requirement already satisfied: imageio>=2.3.0 in /usr/local/lib/python3.6/dist-packages (from scikit-image->-r /content/tf-pose-estimation/requirements.txt (line 9)) (2.4.1)\n",
            "Requirement already satisfied: decorator>=4.3.0 in /usr/local/lib/python3.6/dist-packages (from networkx>=2.0->scikit-image->-r /content/tf-pose-estimation/requirements.txt (line 9)) (4.4.2)\n",
            "Building wheels for collected packages: tensorpack\n",
            "  Building wheel for tensorpack (setup.py) ... \u001b[?25l\u001b[?25hdone\n",
            "  Created wheel for tensorpack: filename=tensorpack-0.11-py2.py3-none-any.whl size=296329 sha256=f59c8ae08133f3abee03e15a009202af09ac461db90298dfb53643107da01dd0\n",
            "  Stored in directory: /tmp/pip-ephem-wheel-cache-le5pbmj_/wheels/a8/b5/a9/025b3a1294b9ffff93309e6956c65aa80e0fa40821d29eff1e\n",
            "Successfully built tensorpack\n",
            "Collecting git+https://github.com/adrianc-a/tf-slim.git@remove_contrib\n",
            "  Cloning https://github.com/adrianc-a/tf-slim.git (to revision remove_contrib) to /tmp/pip-req-build-cnwotao5\n",
            "  Running command git clone -q https://github.com/adrianc-a/tf-slim.git /tmp/pip-req-build-cnwotao5\n",
            "  Running command git checkout -b remove_contrib --track origin/remove_contrib\n",
            "  Switched to a new branch 'remove_contrib'\n",
            "  Branch 'remove_contrib' set up to track remote branch 'remove_contrib' from 'origin'.\n",
            "Requirement already satisfied (use --upgrade to upgrade): tf-slim==1.0 from git+https://github.com/adrianc-a/tf-slim.git@remove_contrib in /usr/local/lib/python3.6/dist-packages\n",
            "Collecting tensorflow==1.15.0\n",
            "\u001b[?25l  Downloading https://files.pythonhosted.org/packages/3f/98/5a99af92fb911d7a88a0005ad55005f35b4c1ba8d75fba02df726cd936e6/tensorflow-1.15.0-cp36-cp36m-manylinux2010_x86_64.whl (412.3MB)\n",
            "\u001b[K     |████████████████████████████████| 412.3MB 26kB/s \n",
            "\u001b[?25hRequirement already satisfied: opencv-python in /usr/local/lib/python3.6/dist-packages (4.1.2.30)\n",
            "Requirement already satisfied: absl-py>=0.2.2 in /usr/local/lib/python3.6/dist-packages (from tf-slim==1.0) (0.10.0)\n",
            "Requirement already satisfied: six>=1.10.0 in /usr/local/lib/python3.6/dist-packages (from tensorflow==1.15.0) (1.15.0)\n",
            "Requirement already satisfied: astor>=0.6.0 in /usr/local/lib/python3.6/dist-packages (from tensorflow==1.15.0) (0.8.1)\n",
            "Requirement already satisfied: wheel>=0.26 in /usr/local/lib/python3.6/dist-packages (from tensorflow==1.15.0) (0.36.2)\n",
            "Collecting keras-applications>=1.0.8\n",
            "\u001b[?25l  Downloading https://files.pythonhosted.org/packages/71/e3/19762fdfc62877ae9102edf6342d71b28fbfd9dea3d2f96a882ce099b03f/Keras_Applications-1.0.8-py3-none-any.whl (50kB)\n",
            "\u001b[K     |████████████████████████████████| 51kB 5.5MB/s \n",
            "\u001b[?25hRequirement already satisfied: google-pasta>=0.1.6 in /usr/local/lib/python3.6/dist-packages (from tensorflow==1.15.0) (0.2.0)\n",
            "Collecting tensorboard<1.16.0,>=1.15.0\n",
            "\u001b[?25l  Downloading https://files.pythonhosted.org/packages/1e/e9/d3d747a97f7188f48aa5eda486907f3b345cd409f0a0850468ba867db246/tensorboard-1.15.0-py3-none-any.whl (3.8MB)\n",
            "\u001b[K     |████████████████████████████████| 3.8MB 43.3MB/s \n",
            "\u001b[?25hRequirement already satisfied: protobuf>=3.6.1 in /usr/local/lib/python3.6/dist-packages (from tensorflow==1.15.0) (3.12.4)\n",
            "Requirement already satisfied: termcolor>=1.1.0 in /usr/local/lib/python3.6/dist-packages (from tensorflow==1.15.0) (1.1.0)\n",
            "Requirement already satisfied: wrapt>=1.11.1 in /usr/local/lib/python3.6/dist-packages (from tensorflow==1.15.0) (1.12.1)\n",
            "Collecting tensorflow-estimator==1.15.1\n",
            "\u001b[?25l  Downloading https://files.pythonhosted.org/packages/de/62/2ee9cd74c9fa2fa450877847ba560b260f5d0fb70ee0595203082dafcc9d/tensorflow_estimator-1.15.1-py2.py3-none-any.whl (503kB)\n",
            "\u001b[K     |████████████████████████████████| 512kB 33.0MB/s \n",
            "\u001b[?25hRequirement already satisfied: grpcio>=1.8.6 in /usr/local/lib/python3.6/dist-packages (from tensorflow==1.15.0) (1.32.0)\n",
            "Requirement already satisfied: numpy<2.0,>=1.16.0 in /usr/local/lib/python3.6/dist-packages (from tensorflow==1.15.0) (1.19.5)\n",
            "Requirement already satisfied: opt-einsum>=2.3.2 in /usr/local/lib/python3.6/dist-packages (from tensorflow==1.15.0) (3.3.0)\n",
            "Collecting gast==0.2.2\n",
            "  Downloading https://files.pythonhosted.org/packages/4e/35/11749bf99b2d4e3cceb4d55ca22590b0d7c2c62b9de38ac4a4a7f4687421/gast-0.2.2.tar.gz\n",
            "Requirement already satisfied: keras-preprocessing>=1.0.5 in /usr/local/lib/python3.6/dist-packages (from tensorflow==1.15.0) (1.1.2)\n",
            "Requirement already satisfied: h5py in /usr/local/lib/python3.6/dist-packages (from keras-applications>=1.0.8->tensorflow==1.15.0) (2.10.0)\n",
            "Requirement already satisfied: werkzeug>=0.11.15 in /usr/local/lib/python3.6/dist-packages (from tensorboard<1.16.0,>=1.15.0->tensorflow==1.15.0) (1.0.1)\n",
            "Requirement already satisfied: markdown>=2.6.8 in /usr/local/lib/python3.6/dist-packages (from tensorboard<1.16.0,>=1.15.0->tensorflow==1.15.0) (3.3.3)\n",
            "Requirement already satisfied: setuptools>=41.0.0 in /usr/local/lib/python3.6/dist-packages (from tensorboard<1.16.0,>=1.15.0->tensorflow==1.15.0) (53.0.0)\n",
            "Requirement already satisfied: importlib-metadata; python_version < \"3.8\" in /usr/local/lib/python3.6/dist-packages (from markdown>=2.6.8->tensorboard<1.16.0,>=1.15.0->tensorflow==1.15.0) (3.4.0)\n",
            "Requirement already satisfied: zipp>=0.5 in /usr/local/lib/python3.6/dist-packages (from importlib-metadata; python_version < \"3.8\"->markdown>=2.6.8->tensorboard<1.16.0,>=1.15.0->tensorflow==1.15.0) (3.4.0)\n",
            "Requirement already satisfied: typing-extensions>=3.6.4; python_version < \"3.8\" in /usr/local/lib/python3.6/dist-packages (from importlib-metadata; python_version < \"3.8\"->markdown>=2.6.8->tensorboard<1.16.0,>=1.15.0->tensorflow==1.15.0) (3.7.4.3)\n",
            "Building wheels for collected packages: tf-slim, gast\n",
            "  Building wheel for tf-slim (setup.py) ... \u001b[?25l\u001b[?25hdone\n",
            "  Created wheel for tf-slim: filename=tf_slim-1.0-cp36-none-any.whl size=275049 sha256=3a67b51cda44fb2c5c98a844b6734c579da5ee0b228199ae3d3db115657bdac4\n",
            "  Stored in directory: /tmp/pip-ephem-wheel-cache-t3n_s82w/wheels/be/41/65/cd259010573e2dd0fba258f9a466059b48e38118aeec65e09f\n",
            "  Building wheel for gast (setup.py) ... \u001b[?25l\u001b[?25hdone\n",
            "  Created wheel for gast: filename=gast-0.2.2-cp36-none-any.whl size=7540 sha256=304a484cbf7b2b1981a6f34954e1ccb3a16ebc79982ac32c543b04f082fe1d97\n",
            "  Stored in directory: /root/.cache/pip/wheels/5c/2e/7e/a1d4d4fcebe6c381f378ce7743a3ced3699feb89bcfbdadadd\n",
            "Successfully built tf-slim gast\n",
            "\u001b[31mERROR: tensorflow-probability 0.12.1 has requirement gast>=0.3.2, but you'll have gast 0.2.2 which is incompatible.\u001b[0m\n",
            "Installing collected packages: keras-applications, tensorboard, tensorflow-estimator, gast, tensorflow\n",
            "  Found existing installation: tensorboard 2.4.1\n",
            "    Uninstalling tensorboard-2.4.1:\n",
            "      Successfully uninstalled tensorboard-2.4.1\n",
            "  Found existing installation: tensorflow-estimator 2.4.0\n",
            "    Uninstalling tensorflow-estimator-2.4.0:\n",
            "      Successfully uninstalled tensorflow-estimator-2.4.0\n",
            "  Found existing installation: gast 0.3.3\n",
            "    Uninstalling gast-0.3.3:\n",
            "      Successfully uninstalled gast-0.3.3\n",
            "  Found existing installation: tensorflow 2.4.1\n",
            "    Uninstalling tensorflow-2.4.1:\n",
            "      Successfully uninstalled tensorflow-2.4.1\n",
            "Successfully installed gast-0.2.2 keras-applications-1.0.8 tensorboard-1.15.0 tensorflow-1.15.0 tensorflow-estimator-1.15.1\n",
            "/content/tf-pose-estimation\n"
          ],
          "name": "stdout"
        }
      ]
    },
    {
      "cell_type": "code",
      "metadata": {
        "colab": {
          "base_uri": "https://localhost:8080/"
        },
        "id": "sYmLE6c7krOG",
        "outputId": "cbf3696c-529e-4ccb-934b-29ec7714e50d"
      },
      "source": [
        "%cd /content/tf-pose-estimation/models/graph/cmu/\r\n",
        "!bash download.sh"
      ],
      "execution_count": 9,
      "outputs": [
        {
          "output_type": "stream",
          "text": [
            "/content/tf-pose-estimation/models/graph/cmu\n",
            "[download] model graph : cmu\n",
            "--2021-02-08 03:10:21--  http://download758.mediafire.com/vpvl8l8u0o0g/qlzzr20mpocnpa3/graph_opt.pb\n",
            "Resolving download758.mediafire.com (download758.mediafire.com)... 205.196.120.206\n",
            "Connecting to download758.mediafire.com (download758.mediafire.com)|205.196.120.206|:80... connected.\n",
            "HTTP request sent, awaiting response... 200 OK\n",
            "Length: 209299198 (200M) [application/octet-stream]\n",
            "Saving to: ‘/content/tf-pose-estimation/models/graph/cmu/graph_opt.pb’\n",
            "\n",
            "/content/tf-pose-es 100%[===================>] 199.60M  42.2MB/s    in 5.3s    \n",
            "\n",
            "2021-02-08 03:10:26 (37.5 MB/s) - ‘/content/tf-pose-estimation/models/graph/cmu/graph_opt.pb’ saved [209299198/209299198]\n",
            "\n",
            "[download] end\n"
          ],
          "name": "stdout"
        }
      ]
    },
    {
      "cell_type": "code",
      "metadata": {
        "colab": {
          "base_uri": "https://localhost:8080/"
        },
        "id": "VZDVcdvxgjEn",
        "outputId": "250f1af2-e6e3-4793-b893-108ab7b9941a"
      },
      "source": [
        "%cd /content/tf-pose-estimation/\r\n",
        "!python run.py --model=mobilenet_thin --resize=432x368 --image=./images/p1.jpg"
      ],
      "execution_count": 7,
      "outputs": [
        {
          "output_type": "stream",
          "text": [
            "/content/tf-pose-estimation\n",
            "2021-02-08 03:06:59.989108: I tensorflow/stream_executor/platform/default/dso_loader.cc:49] Successfully opened dynamic library libcudart.so.10.1\n",
            "Traceback (most recent call last):\n",
            "  File \"run.py\", line 6, in <module>\n",
            "    from tf_pose import common\n",
            "  File \"/content/tf-pose-estimation/tf_pose/__init__.py\", line 5, in <module>\n",
            "    from tf_pose.runner import infer, Estimator, get_estimator\n",
            "  File \"/content/tf-pose-estimation/tf_pose/runner.py\", line 8, in <module>\n",
            "    from tf_pose import eval\n",
            "  File \"/content/tf-pose-estimation/tf_pose/eval.py\", line 13, in <module>\n",
            "    from tf_pose.estimator import TfPoseEstimator\n",
            "  File \"/content/tf-pose-estimation/tf_pose/estimator.py\", line 14, in <module>\n",
            "    import tensorflow.contrib.tensorrt as trt\n",
            "ModuleNotFoundError: No module named 'tensorflow.contrib'\n"
          ],
          "name": "stdout"
        }
      ]
    }
  ]
}